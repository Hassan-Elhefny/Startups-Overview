{
 "cells": [
  {
   "attachments": {},
   "cell_type": "markdown",
   "metadata": {},
   "source": [
    "# Import Libraries"
   ]
  },
  {
   "cell_type": "code",
   "execution_count": 88,
   "metadata": {},
   "outputs": [],
   "source": [
    "import pandas as pd\n",
    "import numpy as np\n",
    "import matplotlib.pyplot as plt\n",
    "import seaborn as sns\n",
    "from summarytools import dfSummary\n",
    "sns.set()"
   ]
  },
  {
   "attachments": {},
   "cell_type": "markdown",
   "metadata": {},
   "source": [
    "# Read Dataset"
   ]
  },
  {
   "cell_type": "code",
   "execution_count": 4,
   "metadata": {},
   "outputs": [
    {
     "data": {
      "text/html": [
       "<div>\n",
       "<style scoped>\n",
       "    .dataframe tbody tr th:only-of-type {\n",
       "        vertical-align: middle;\n",
       "    }\n",
       "\n",
       "    .dataframe tbody tr th {\n",
       "        vertical-align: top;\n",
       "    }\n",
       "\n",
       "    .dataframe thead th {\n",
       "        text-align: right;\n",
       "    }\n",
       "</style>\n",
       "<table border=\"1\" class=\"dataframe\">\n",
       "  <thead>\n",
       "    <tr style=\"text-align: right;\">\n",
       "      <th></th>\n",
       "      <th>Company</th>\n",
       "      <th>Valuation</th>\n",
       "      <th>Valuation_date</th>\n",
       "      <th>Industry</th>\n",
       "      <th>Country</th>\n",
       "    </tr>\n",
       "  </thead>\n",
       "  <tbody>\n",
       "    <tr>\n",
       "      <th>0</th>\n",
       "      <td>ByteDance</td>\n",
       "      <td>140.00</td>\n",
       "      <td>April-21</td>\n",
       "      <td>Internet</td>\n",
       "      <td>China</td>\n",
       "    </tr>\n",
       "    <tr>\n",
       "      <th>1</th>\n",
       "      <td>SpaceX</td>\n",
       "      <td>100.00</td>\n",
       "      <td>October-21</td>\n",
       "      <td>Aerospace</td>\n",
       "      <td>United States</td>\n",
       "    </tr>\n",
       "    <tr>\n",
       "      <th>2</th>\n",
       "      <td>Stripe</td>\n",
       "      <td>95.00</td>\n",
       "      <td>March-21</td>\n",
       "      <td>Financial services</td>\n",
       "      <td>United States /  Ireland</td>\n",
       "    </tr>\n",
       "    <tr>\n",
       "      <th>3</th>\n",
       "      <td>Klarna</td>\n",
       "      <td>45.60</td>\n",
       "      <td>June-21</td>\n",
       "      <td>Fintech</td>\n",
       "      <td>Sweden</td>\n",
       "    </tr>\n",
       "    <tr>\n",
       "      <th>4</th>\n",
       "      <td>Canva</td>\n",
       "      <td>40.00</td>\n",
       "      <td>September-21</td>\n",
       "      <td>Graphic design</td>\n",
       "      <td>Australia</td>\n",
       "    </tr>\n",
       "    <tr>\n",
       "      <th>...</th>\n",
       "      <td>...</td>\n",
       "      <td>...</td>\n",
       "      <td>...</td>\n",
       "      <td>...</td>\n",
       "      <td>...</td>\n",
       "    </tr>\n",
       "    <tr>\n",
       "      <th>245</th>\n",
       "      <td>Bitso</td>\n",
       "      <td>2.20</td>\n",
       "      <td>May-21</td>\n",
       "      <td>Cryptocurrency</td>\n",
       "      <td>Mexico</td>\n",
       "    </tr>\n",
       "    <tr>\n",
       "      <th>246</th>\n",
       "      <td>Gympass</td>\n",
       "      <td>2.20</td>\n",
       "      <td>June-21</td>\n",
       "      <td>NaN</td>\n",
       "      <td>Brazil /   United States</td>\n",
       "    </tr>\n",
       "    <tr>\n",
       "      <th>247</th>\n",
       "      <td>Kurly</td>\n",
       "      <td>2.20</td>\n",
       "      <td>July-21</td>\n",
       "      <td>E-commerce</td>\n",
       "      <td>South Korea</td>\n",
       "    </tr>\n",
       "    <tr>\n",
       "      <th>248</th>\n",
       "      <td>Addepar</td>\n",
       "      <td>2.17</td>\n",
       "      <td>June-21</td>\n",
       "      <td>Fintech</td>\n",
       "      <td>United States</td>\n",
       "    </tr>\n",
       "    <tr>\n",
       "      <th>249</th>\n",
       "      <td>Eightfold.ai</td>\n",
       "      <td>2.10</td>\n",
       "      <td>June-21</td>\n",
       "      <td>Artificial intelligence</td>\n",
       "      <td>United States</td>\n",
       "    </tr>\n",
       "  </tbody>\n",
       "</table>\n",
       "<p>250 rows × 5 columns</p>\n",
       "</div>"
      ],
      "text/plain": [
       "          Company  Valuation Valuation_date                 Industry  \\\n",
       "0       ByteDance     140.00       April-21                 Internet   \n",
       "1          SpaceX     100.00     October-21                Aerospace   \n",
       "2          Stripe      95.00       March-21       Financial services   \n",
       "3          Klarna      45.60        June-21                  Fintech   \n",
       "4           Canva      40.00   September-21           Graphic design   \n",
       "..            ...        ...            ...                      ...   \n",
       "245         Bitso       2.20         May-21           Cryptocurrency   \n",
       "246       Gympass       2.20        June-21                      NaN   \n",
       "247         Kurly       2.20        July-21               E-commerce   \n",
       "248       Addepar       2.17        June-21                  Fintech   \n",
       "249  Eightfold.ai       2.10        June-21  Artificial intelligence   \n",
       "\n",
       "                        Country  \n",
       "0                         China  \n",
       "1                 United States  \n",
       "2      United States /  Ireland  \n",
       "3                        Sweden  \n",
       "4                     Australia  \n",
       "..                          ...  \n",
       "245                      Mexico  \n",
       "246    Brazil /   United States  \n",
       "247                 South Korea  \n",
       "248               United States  \n",
       "249               United States  \n",
       "\n",
       "[250 rows x 5 columns]"
      ]
     },
     "execution_count": 4,
     "metadata": {},
     "output_type": "execute_result"
    }
   ],
   "source": [
    "startups_df = pd.read_csv('Startups.csv')\n",
    "startups_df"
   ]
  },
  {
   "attachments": {},
   "cell_type": "markdown",
   "metadata": {},
   "source": [
    "# EDA"
   ]
  },
  {
   "cell_type": "code",
   "execution_count": 5,
   "metadata": {},
   "outputs": [
    {
     "name": "stdout",
     "output_type": "stream",
     "text": [
      "<class 'pandas.core.frame.DataFrame'>\n",
      "RangeIndex: 250 entries, 0 to 249\n",
      "Data columns (total 5 columns):\n",
      " #   Column          Non-Null Count  Dtype  \n",
      "---  ------          --------------  -----  \n",
      " 0   Company         250 non-null    object \n",
      " 1   Valuation       250 non-null    float64\n",
      " 2   Valuation_date  250 non-null    object \n",
      " 3   Industry        233 non-null    object \n",
      " 4   Country         250 non-null    object \n",
      "dtypes: float64(1), object(4)\n",
      "memory usage: 9.9+ KB\n"
     ]
    }
   ],
   "source": [
    "startups_df.info()"
   ]
  },
  {
   "cell_type": "code",
   "execution_count": 6,
   "metadata": {},
   "outputs": [
    {
     "data": {
      "text/html": [
       "<style type=\"text/css\">\n",
       "#T_adf4f thead>tr>th {\n",
       "  text-align: left;\n",
       "}\n",
       "#T_adf4f_row0_col0, #T_adf4f_row1_col0, #T_adf4f_row2_col0, #T_adf4f_row3_col0, #T_adf4f_row4_col0 {\n",
       "  text-align: left;\n",
       "  font-size: 12px;\n",
       "  vertical-align: middle;\n",
       "  width: 5%;\n",
       "  max-width: 50px;\n",
       "  min-width: 20px;\n",
       "}\n",
       "#T_adf4f_row0_col1, #T_adf4f_row1_col1, #T_adf4f_row2_col1, #T_adf4f_row3_col1, #T_adf4f_row4_col1 {\n",
       "  text-align: left;\n",
       "  font-size: 12px;\n",
       "  vertical-align: middle;\n",
       "  width: 15%;\n",
       "  max-width: 200px;\n",
       "  min-width: 100px;\n",
       "  word-break: break-word;\n",
       "}\n",
       "#T_adf4f_row0_col2, #T_adf4f_row1_col2, #T_adf4f_row2_col2, #T_adf4f_row3_col2, #T_adf4f_row4_col2 {\n",
       "  text-align: left;\n",
       "  font-size: 12px;\n",
       "  vertical-align: middle;\n",
       "  width: 30%;\n",
       "  min-width: 100px;\n",
       "}\n",
       "#T_adf4f_row0_col3, #T_adf4f_row1_col3, #T_adf4f_row2_col3, #T_adf4f_row3_col3, #T_adf4f_row4_col3 {\n",
       "  text-align: left;\n",
       "  font-size: 12px;\n",
       "  vertical-align: middle;\n",
       "  width: 25%;\n",
       "  min-width: 100px;\n",
       "}\n",
       "#T_adf4f_row0_col4, #T_adf4f_row1_col4, #T_adf4f_row2_col4, #T_adf4f_row3_col4, #T_adf4f_row4_col4 {\n",
       "  text-align: left;\n",
       "  font-size: 12px;\n",
       "  vertical-align: middle;\n",
       "  width: 20%;\n",
       "  min-width: 150px;\n",
       "}\n",
       "#T_adf4f_row0_col5, #T_adf4f_row1_col5, #T_adf4f_row2_col5, #T_adf4f_row3_col5, #T_adf4f_row4_col5 {\n",
       "  text-align: left;\n",
       "  font-size: 12px;\n",
       "  vertical-align: middle;\n",
       "  width: 10%;\n",
       "}\n",
       "</style>\n",
       "<table id=\"T_adf4f\">\n",
       "  <caption><strong>Data Frame Summary</strong><br>_<br>Dimensions: 250 x 5<br>Duplicates: 0</caption>\n",
       "  <thead>\n",
       "    <tr>\n",
       "      <th id=\"T_adf4f_level0_col0\" class=\"col_heading level0 col0\" >No</th>\n",
       "      <th id=\"T_adf4f_level0_col1\" class=\"col_heading level0 col1\" >Variable</th>\n",
       "      <th id=\"T_adf4f_level0_col2\" class=\"col_heading level0 col2\" >Stats / Values</th>\n",
       "      <th id=\"T_adf4f_level0_col3\" class=\"col_heading level0 col3\" >Freqs / (% of Valid)</th>\n",
       "      <th id=\"T_adf4f_level0_col4\" class=\"col_heading level0 col4\" >Graph</th>\n",
       "      <th id=\"T_adf4f_level0_col5\" class=\"col_heading level0 col5\" >Missing</th>\n",
       "    </tr>\n",
       "  </thead>\n",
       "  <tbody>\n",
       "    <tr>\n",
       "      <td id=\"T_adf4f_row0_col0\" class=\"data row0 col0\" >1</td>\n",
       "      <td id=\"T_adf4f_row0_col1\" class=\"data row0 col1\" ><strong>Company</strong><br>[object]</td>\n",
       "      <td id=\"T_adf4f_row0_col2\" class=\"data row0 col2\" >1. ByteDance<br>2. Udaan<br>3. Youxia Motors<br>4. MoonPay<br>5. Unacademy<br>6. ApplyBoard<br>7. Back Market<br>8. Blockstream<br>9. ConsenSys<br>10. Cybereason<br>11. other</td>\n",
       "      <td id=\"T_adf4f_row0_col3\" class=\"data row0 col3\" >1 (0.4%)<br>1 (0.4%)<br>1 (0.4%)<br>1 (0.4%)<br>1 (0.4%)<br>1 (0.4%)<br>1 (0.4%)<br>1 (0.4%)<br>1 (0.4%)<br>1 (0.4%)<br>240 (96.0%)</td>\n",
       "      <td id=\"T_adf4f_row0_col4\" class=\"data row0 col4\" ><img src = \"data:image/png;base64, iVBORw0KGgoAAAANSUhEUgAAAJsAAAD+CAYAAAAtWHdlAAAAOXRFWHRTb2Z0d2FyZQBNYXRwbG90bGliIHZlcnNpb24zLjUuMiwgaHR0cHM6Ly9tYXRwbG90bGliLm9yZy8qNh9FAAAACXBIWXMAAA9hAAAPYQGoP6dpAAADfUlEQVR4nO3cMWobUQBF0S8jTNyMEAItRovwYrMI7UYITREbN0oRpwhRAgH7DijnVCHVFJfR5PNfVtfrdUDhYekH4P8hNjJiIyM2MmIjIzYyYiMjNjJiI7MaYzyNMcb1en1Z+Fm4c+vdbvc8xhir1eqr4PhMD9M0badp2o4xHpd+GO6bbzYyYiMjNjJiIyM2MmIjIzYyYiMjNjJiIyM2MmIjIzYyYiMjNjJiI7Oe5/n8/ue3RZ+Eu2eDQGblv8yi4s1GxrqKjHUVGUcfZMRGRmxkxEZGbGTERkZsZMRGRmxkxEZGbGTERkZsZMRGRmxkDF7IuBZOxuCFjDcbGYMXMgYvZBx9kBEbGbGRERsZsZERGxmxkREbGbGRERsZsZERGxmxkREbGbGRMXgh41o4GYMXMr7ZyPgZJWNdRca6ioxvNjJiIyM2MmIjIzYyYiMjNjJiIyM2MmIjIzYyYiMjNjJiIyM2MtZVZFwLJ2NdRcabjYzBCxmDFzKOPsiIjYzYyIiNjNjIiI2M2MiIjYzYyIiNjNjIiI2M2MiIjYzYyBi8kHEtnIzBCxlvNjIGL2QMXsg4+iAjNjJiIyM2MmIjIzYyYiMjNjJiIyM2MmIjIzYyYiMjNjJiIyM2MtZVZGwQyFhXkfFmI2NdRca6ioyjDzJiIyM2MmIjIzYyYiMjNjJiIyM2MmIjIzYyYiMjNjJiIyM2MgYvZFwLJ2PwQsabjYzBCxmDFzKOPsiIjYzYyIiNjNjIiI2M2MiIjYzYyIiNjNjIiI2M2MiIjYzYyBi8kHEtnIzBCxnfbGT8jJKxriJjXUXGNxsZsZERGxmxkREbGbGRERsZsZERGxmxkREbGbGRERsZsZERGxnrKjKuhZOxriLjzUbG4IWMwQsZRx9kxEZGbGTERkZsZMRGRmxkxEZGbGTERkZsZMRGRmxkxEZGbGQMXsi4Fk7G4IXMzzebK+F8pLdbv5Tr3W73/L5BgA8xz/P51oBqPU3T9nA4vGw2m9elHo77cblcvhyPx+3pdHocY/wa2xhjbDab1/1+/22Rp+MePd36S+dsZMRGRmxkxEZGbGTERkZsZMRGRmxkxEZGbGTERkZsZNZj/LgWsvSDcB/+1tJ6nufz8Xjcjj9cC4F/9T6i+m1A5Vo4n+HmtXCDFzL+gUBGbGTERkZsZMRGRmxkxEZGbGTERuY7CLkQJ3942gEAAAAASUVORK5CYII=\"></img></td>\n",
       "      <td id=\"T_adf4f_row0_col5\" class=\"data row0 col5\" >0<br>(0.0%)</td>\n",
       "    </tr>\n",
       "    <tr>\n",
       "      <td id=\"T_adf4f_row1_col0\" class=\"data row1 col0\" >2</td>\n",
       "      <td id=\"T_adf4f_row1_col1\" class=\"data row1 col1\" ><strong>Valuation</strong><br>[float64]</td>\n",
       "      <td id=\"T_adf4f_row1_col2\" class=\"data row1 col2\" >Mean (sd) : 7.8 (13.5)<br>min < med < max:<br>2.1 < 4.0 < 140.0<br>IQR (CV) : 4.4 (0.6)</td>\n",
       "      <td id=\"T_adf4f_row1_col3\" class=\"data row1 col3\" >104 distinct values</td>\n",
       "      <td id=\"T_adf4f_row1_col4\" class=\"data row1 col4\" ><img src = \"data:image/png;base64, iVBORw0KGgoAAAANSUhEUgAAAKoAAABGCAYAAABc8A97AAAAOXRFWHRTb2Z0d2FyZQBNYXRwbG90bGliIHZlcnNpb24zLjUuMiwgaHR0cHM6Ly9tYXRwbG90bGliLm9yZy8qNh9FAAAACXBIWXMAAA9hAAAPYQGoP6dpAAAB7ElEQVR4nO3XsW7aUBSH8XMKoSZSbRApbF7ZMjCy9A36sFm7w8hrsFhgC2piC91sVaWqJb6Upv/o+80+R3f4dK/sIQQD/ncf3voAwGv0L33g7kMzG0Tub0IIdeQs8MMfQ3X34WQy+Zqm6ThmeVVVO3d/IlZc69KNOkjTdLxcLussy05dFpdlmaxWq3FRFAMzI1Rc5eLTb2aWZdlpOp1+j9g/jJgBfsHPFCQQKiQQKiQQKiQQKiQQKiQQKiQQKiQQKiQQKiQQKiQQKiQQKiQQKiQQKiQQKiQQKiQQKiQQKiQQKiQQKiQQKiQQKiQQKiQQKiQQKiQQKiQQKiQQKiQQKiQQKiQQKiQQKiQQKiQQKiQQKiQQKiQQKiQQKiQQKiQQKiQQKiQQKiQQKiQQKiQQKiQQKiQQKiQQKiQQKiQQKiQQKiQQKiQQKiQQKiQQKiQQKiQQKiQQKiQQKiT0b7n8fD7fmVnq7rErmhBC/RePBFE3C/V4PN61bfuY53mv1+udYnbs9/uDu38zs5h5In9HbhZq0zT9JEnuF4vFaTab7brOb7fbT+v1+kue5w8xoVdVtXP3J2J9H14ValmWSdfFh8Oh88zP2rbtJ0lyP5/PfTQaPXeZrev642az+VwUxYO7V9ecA//McwjhtxfSC5l7Z7kbwYduAAAAAElFTkSuQmCC\"></img></td>\n",
       "      <td id=\"T_adf4f_row1_col5\" class=\"data row1 col5\" >0<br>(0.0%)</td>\n",
       "    </tr>\n",
       "    <tr>\n",
       "      <td id=\"T_adf4f_row2_col0\" class=\"data row2 col0\" >3</td>\n",
       "      <td id=\"T_adf4f_row2_col1\" class=\"data row2 col1\" ><strong>Valuation_date</strong><br>[object]</td>\n",
       "      <td id=\"T_adf4f_row2_col2\" class=\"data row2 col2\" >1. June-21<br>2. August-21<br>3. July-21<br>4. September-21<br>5. October-21<br>6. May-21<br>7. April-21<br>8. November-21<br>9. March-21<br>10. January-21<br>11. other</td>\n",
       "      <td id=\"T_adf4f_row2_col3\" class=\"data row2 col3\" >31 (12.4%)<br>29 (11.6%)<br>19 (7.6%)<br>18 (7.2%)<br>18 (7.2%)<br>17 (6.8%)<br>14 (5.6%)<br>14 (5.6%)<br>11 (4.4%)<br>9 (3.6%)<br>70 (28.0%)</td>\n",
       "      <td id=\"T_adf4f_row2_col4\" class=\"data row2 col4\" ><img src = \"data:image/png;base64, iVBORw0KGgoAAAANSUhEUgAAAJsAAAD+CAYAAAAtWHdlAAAAOXRFWHRTb2Z0d2FyZQBNYXRwbG90bGliIHZlcnNpb24zLjUuMiwgaHR0cHM6Ly9tYXRwbG90bGliLm9yZy8qNh9FAAAACXBIWXMAAA9hAAAPYQGoP6dpAAAEEUlEQVR4nO3dPW4bVwBG0cdAMOKGhCBAi9EistgsgrsRBLGIDTd0kTLi7zzfkPI5CxiouHjEDObTrPb7/YDCH//3H8DvQ2xkxEZGbGTERkZsZMRGRmxkxEZmNcb4Osb4Mul6P/b7/bdJ1+KTeXh6evprvV4/zrjYbrd7W61WfwuOjzys1+vHl5eXb5vN5vuSC72/v/+53W4fX19fv4wxxMZ/PIwxxmaz+f78/PzPhOt9nXANPik3CGTERkZsZMRGRmxkxEZGbGTERkZsZMRGRmxkxEZGbGTERuZhjH/fRVt6oRnX4HN72O12b9vt9nFMeBdtt9u9jTF+LP+z+IxsEMis/MssKjNPNqcaR01bV1lWccqUdZVlFeeYua6yrOIoD3XJiI2M2MiIjYzYyIiNjNjIiI2M2MiIjYzYyIiNjNjITBm8GLtwjmmDF2MXTvFaOBmDFzLXnGxOMK5y8eDFsIVrXTR4MWxhiWsGL4YtXMVDXTJiIyM2MmIjIzYyYiMjNjJiIyM2MmIjIzYyYiMjNjIXDV4MW1ji4sGLYQvX8lo4GYMXMm4QyFz6M+onlKtdtK6yrGKJs9dVllUsdem6yrKKq7lBICM2MmIjIzYyYiMjNjJiIyM2MmIjIzYyYiMjNjJiI3P2usqyiqUuWldZVrGE18LJWFeRcbKRMXghY/BCxuCFjIe6ZMRGRmxkxEZGbGTERkZsZMRGRmxkxEZGbGTERkZsZAxeyBi8kPFaOBmDFzJONjIGL2QMXsgYvJDxUJeM2MiIjYzYyIiNjNjIiI2M2MiIjYzYyIiNjNjIiI2M2MhYV5GxriJjg0DGuorMuSebE43FzlpXWVUxw8l1lVUVs5y7rrKqYjEPdcmIjYzYyIiNjNjIiI2M2MiIjYzYyIiNjNjIiI2M2MicHLwYujDLWYMXQxdm8Fo4GYMXMk42MgYvZAxeyBi8kPFQl4zYyIiNjNjIiI2M2MiIjYzYyIiNjNjIiI2M2MiIjYzBCxmDFzJeCydj8ELGDQKZUz+jfj6Z5ui6yqqKmQ6uq6yqmO3UusqqimncIJARGxmxkREbGbGRERsZsZERGxmxkREbGbGRERsZsZE5uK6yqmK2o+sqqypm8lo4GesqMsdONqcaUx0cvBi7MNuHgxdjF36FY4MXYxem8lCXjNjIiI2M2MiIjYzYyIiNjNjIiI2M2MiIjYzYyIiNzIeDF2MXfoWDgxdjF2bzWjgZgxcy534o7VY4be/Y0S+83BojnPt28Asvt8YI5/6d+sLLrTHCuWMe6pIRGxmxkREbGbGRERsZsZERGxmxkREbGbGRERsZsZE5+IWXW3MPfyPHHf3Cy60xwrlvXgsnY/BCxg0CGbGRERsZsZERGxmxkREbGbGRERuZnyU2TuKFPTsYAAAAAElFTkSuQmCC\"></img></td>\n",
       "      <td id=\"T_adf4f_row2_col5\" class=\"data row2 col5\" >0<br>(0.0%)</td>\n",
       "    </tr>\n",
       "    <tr>\n",
       "      <td id=\"T_adf4f_row3_col0\" class=\"data row3 col0\" >4</td>\n",
       "      <td id=\"T_adf4f_row3_col1\" class=\"data row3 col1\" ><strong>Industry</strong><br>[object]</td>\n",
       "      <td id=\"T_adf4f_row3_col2\" class=\"data row3 col2\" >1. Fintech<br>2. Software<br>3. nan<br>4. E-commerce<br>5. Artificial intelligence<br>6. Financial services<br>7. Cryptocurrency<br>8. Cybersecurity<br>9. Transportation<br>10. Marketplace<br>11. other</td>\n",
       "      <td id=\"T_adf4f_row3_col3\" class=\"data row3 col3\" >24 (9.6%)<br>23 (9.2%)<br>17 (6.8%)<br>15 (6.0%)<br>10 (4.0%)<br>9 (3.6%)<br>9 (3.6%)<br>8 (3.2%)<br>6 (2.4%)<br>6 (2.4%)<br>123 (49.2%)</td>\n",
       "      <td id=\"T_adf4f_row3_col4\" class=\"data row3 col4\" ><img src = \"data:image/png;base64, iVBORw0KGgoAAAANSUhEUgAAAJsAAAD+CAYAAAAtWHdlAAAAOXRFWHRTb2Z0d2FyZQBNYXRwbG90bGliIHZlcnNpb24zLjUuMiwgaHR0cHM6Ly9tYXRwbG90bGliLm9yZy8qNh9FAAAACXBIWXMAAA9hAAAPYQGoP6dpAAAEEklEQVR4nO3dS2obWQCG0VIjQmciYQxejBfRi+1FaDfGWINOyEQZZGT0sOr1pXHOmQuE+biiivsnm9PpNEDhr9/9BfhziI2M2MiIjYzYyIiNjNjIiI2M2MhshmH4OgzDl4mf/3E6nb4t+H34xLaPj4//7Ha7hykfPh6Pr5vN5l/BcY/tbrd7eH5+/rbf77+P+eDb29vfh8Ph4eXl5cswDGLjQ9thGIb9fv/96enpvwmf/7rw9+ET84BARmxkxEZGbGTERkZsZMRGRmxkxEZGbGTERkZsZMRGRmxktsPw627a2A9O+Qx/tu3xeHw9HA4Pw4S7acfj8XUYhh/Lfy0+IxsEMhv/ZBaVOSebU41RJq+rLKsYa9K6yrKKKeasqyyrGMVLXTJiIyM2MmIjIzYyYiMjNjJiIyM2MmIjIzYyYiMjNjKTBi/GLkwxefBi7MJYroWTMXghM/Zkc5ox2ajBi5ELc9w9eDFyYa6xgxcjFybzUpeM2MiIjYzYyIiNjNjIiI2M2MiIjYzYyIiNjNjIiI3M3YMXIxfmGjV4MXJhDtfCyRi8kPGAQOben1E/n8x217rKqoolfLiusqpiKfeuq6yqmM0DAhmxkREbGbGRERsZsZERGxmxkREbGbGRERsZsZERG5kP11VWVSzlrnWVVRVLcC2cjHUVmVsnm9OMRV0dvBi5sLSLgxcjF9Zwa/Bi5MKivNQlIzYyYiMjNjJiIyM2MmIjIzYyYiMjNjJiIyM2MmIjc3HwYuTCGq4OXoxcWJpr4WQMXsg42cgYvJAxeCFj8ELGS10yYiMjNjJiIyM2MmIjIzYyYiMjNjJiIyM2MmIjIzYyYiNjXUXGuoqMDQIZ6yoyTjYy1lVkrKvIWFeR8VKXjNjIiI2M2MiIjYzYyIiNjNjIiI2M2MiIjYzYyIiNjMELGYMXMq6FkzF4IXPtZHOqsbiLgxdjF9ZwNngxdmEt1wYvxi4szktdMmIjIzYyYiMjNjJiIyM2MmIjIzYyYiMjNjJiIyM2MmeDF2MX1nJx8GLswhpcCydj8ELGAwKZSz+jfkJZxdm6yrKKtbxbV1lWsaZL6yrLKlbhAYGM2MiIjYzYyIiNjNjIiI2M2MiIjYzYyIiNjNjIiI3Mu3WVZRVrOltXWVaxFtfCyVhXkXGykTF4IWPwQsbghYyXumTERkZsZMRGRmxkxEZGbGTERkZsZMRGRmxkxEZGbGQMXsgYvJBxLZyMwQuZa/9RGtc5+Sc6G7xwm0HQdO8GL7/7y/zfGQTNc2nwwm0GQRN5qUtGbGTERkZsZMRGRmxkxEZGbGTERkZsZMRGRmxkxEbm3eCF2/yd5jkbvHCbQdB0roWP51r4RAYvZDwgkBEbGbGRERsZsZERGxmxkREbGbGR+QklNk7isj33zAAAAABJRU5ErkJggg==\"></img></td>\n",
       "      <td id=\"T_adf4f_row3_col5\" class=\"data row3 col5\" >17<br>(6.8%)</td>\n",
       "    </tr>\n",
       "    <tr>\n",
       "      <td id=\"T_adf4f_row4_col0\" class=\"data row4 col0\" >5</td>\n",
       "      <td id=\"T_adf4f_row4_col1\" class=\"data row4 col1\" ><strong>Country</strong><br>[object]</td>\n",
       "      <td id=\"T_adf4f_row4_col2\" class=\"data row4 col2\" >1.  United States<br>2.   United States<br>3.  India<br>4.  China<br>5.  United Kingdom<br>6.   India<br>7.  Canada<br>8.   China<br>9.  Germany<br>10.   United Kingdom<br>11. other</td>\n",
       "      <td id=\"T_adf4f_row4_col3\" class=\"data row4 col3\" >87 (34.8%)<br>27 (10.8%)<br>21 (8.4%)<br>21 (8.4%)<br>7 (2.8%)<br>6 (2.4%)<br>6 (2.4%)<br>5 (2.0%)<br>5 (2.0%)<br>4 (1.6%)<br>61 (24.4%)</td>\n",
       "      <td id=\"T_adf4f_row4_col4\" class=\"data row4 col4\" ><img src = \"data:image/png;base64, iVBORw0KGgoAAAANSUhEUgAAAJsAAAD+CAYAAAAtWHdlAAAAOXRFWHRTb2Z0d2FyZQBNYXRwbG90bGliIHZlcnNpb24zLjUuMiwgaHR0cHM6Ly9tYXRwbG90bGliLm9yZy8qNh9FAAAACXBIWXMAAA9hAAAPYQGoP6dpAAAERklEQVR4nO3dQU4bWQBF0W/LosPECCGxjCzAi8hiexFeAPtACA9COhN60AkBEinguG5Z7nNmGSD9SFeFqlSPWjw+Pg4oLOc+AP8fYiMjNjJiIyM2MmIjIzYyYiMjNjKLMcb5GONs7oNM4Ovj4+PD3Ifgh9XV1dWn9Xp9OfdBDm23290tFou/BXc8Vuv1+nKz2TxcXFx8mfswh3J/f/9hu91e3t7eno0xxHYkVmOMcXFx8eX6+vrz3Ic5sPO5D8BLbhDIiI2M2MiIjYzYyIiNjNjIiI2M2MiIjYzYyIiNjNjIiI3Maoz/3v+a+yCHdGr/n1Ox2u12d9vt9nKc2Ptfu93ubozxde5z8IMNApmFP5lF5VBXNlcRfusg6ypLJt7ij9dVlky81aHWVSd1J8s0PNQlIzYyYiMjNjJiIyM2MmIjIzYyYiMjNjJiIyM2MmIj88eDF+MS3uoggxfjEt7Ca+FkDF7I7HtlcyXj3fYavBi4sI93D14MXNjXvoMXAxfezUNdMmIjIzYyYiMjNjJiIyM2MmIjIzYyYiMjNjJiIyM2Mu8evBi4sK+9Bi8GLuzDa+FkDF7IuEEg49coGesqMtZVZKyryLhBICM2MmIjIzYyYiMjNjJiIyM2MmIjIzYyYiMjNjJiI2NdRca6iozXwslYV5H51ZXNVYtJ/DR4MWZhKi8GL8YsTOlXgxdjFibhoS4ZsZERGxmxkREbGbGRERsZsZERGxmxkREbGbGRERuZF4MXYxam9NPgxZiFqXgtnIzBCxlXNjIGL2QMXsgYvJDxUJeM2MiIjYzYyIiNjNjIiI2M2MiIjYzYyIiNjNjIiI2M2MhYV5GxriJjg0DGuoqMKxsZ6yoy1lVkrKvIeKhLRmxkxEZGbGTERkZsZMRGRmxkxEZGbGTERkZsZMRGxuCFjMELGa+FkzF4IfP6yuaqxmReDF6MXZjS8vvgZbPZPHyL7uy3PwV7eBq8fPu3sQuT8VCXjNjIiI2M2MiIjYzYyIiNjNjIiI2M2MiIjYzYyIiNzIvBC0zp+eDF2IVJeS2cjMELGTcIZPwaJWNdRca6iox1FRk3CGTERkZsZMRGRmxkxEZGbGTERkZsZMRGRmxkxEZGbGSsq8hYV5HxWjgZ6yoyz69srmpM6mnwYuzC1Jbr9fry48ePw9iFqS3HGOP8/PyfuQ/C6fNQl4zYyIiNjNjIiI2M2MiIjYzYyIiNjNjIiI2M2MiIjcxyjDEeHh7+mvsgnL7lbre7u7m5MXZhcl4LJ2PwQub1lO+YuNKemBdfeDkmBjinZ/X9Cy/PPrwxu/v7+w/b7fby9vb2bIwhthPx9IWX6+vrz3Mf5hVfmzkxHuqSERsZsZERGxmxkREbGbGRERsZsZERGxmxkREbGbGROcovvBzbeTiM5194OapXegxwTo/XwskYvJBxg0BGbGTERkZsZMRGRmxkxEZGbGTERuZfWGcnCWJiRWQAAAAASUVORK5CYII=\"></img></td>\n",
       "      <td id=\"T_adf4f_row4_col5\" class=\"data row4 col5\" >0<br>(0.0%)</td>\n",
       "    </tr>\n",
       "  </tbody>\n",
       "</table>\n"
      ],
      "text/plain": [
       "<pandas.io.formats.style.Styler at 0x2106b61cb80>"
      ]
     },
     "execution_count": 6,
     "metadata": {},
     "output_type": "execute_result"
    }
   ],
   "source": [
    "dfSummary(startups_df)"
   ]
  },
  {
   "cell_type": "code",
   "execution_count": 14,
   "metadata": {},
   "outputs": [
    {
     "data": {
      "text/plain": [
       "Company            0\n",
       "Valuation          0\n",
       "Valuation_date     0\n",
       "Industry          17\n",
       "Country            0\n",
       "dtype: int64"
      ]
     },
     "execution_count": 14,
     "metadata": {},
     "output_type": "execute_result"
    }
   ],
   "source": [
    "startups_df.isna().sum()"
   ]
  },
  {
   "cell_type": "code",
   "execution_count": 15,
   "metadata": {},
   "outputs": [
    {
     "data": {
      "text/plain": [
       "0"
      ]
     },
     "execution_count": 15,
     "metadata": {},
     "output_type": "execute_result"
    }
   ],
   "source": [
    "startups_df.duplicated().sum()"
   ]
  },
  {
   "cell_type": "code",
   "execution_count": 16,
   "metadata": {},
   "outputs": [
    {
     "data": {
      "text/plain": [
       "250"
      ]
     },
     "execution_count": 16,
     "metadata": {},
     "output_type": "execute_result"
    }
   ],
   "source": [
    "startups_df['Company'].nunique()"
   ]
  },
  {
   "cell_type": "code",
   "execution_count": 19,
   "metadata": {},
   "outputs": [
    {
     "data": {
      "text/plain": [
       "array(['ByteDance', 'SpaceX', 'Stripe', 'Klarna', 'Canva', 'Instacart',\n",
       "       'Databricks', 'Revolut', 'Nubank', 'Telegram', 'Epic Games',\n",
       "       'Chime', 'FTX', \"Byju's\", 'Xiaohongshu', 'Fanatics', 'Dunamu',\n",
       "       'Trendyol', 'Yuanfudao', 'Checkout.com', 'DJI', 'GoPuff', 'Shein',\n",
       "       'Plaid', 'Grammarly', 'Faire', 'Brex', 'Biosplice Therapeutics',\n",
       "       'Bitmain', 'GoodLeap', 'SenseTime', 'Northvolt', 'Celonis',\n",
       "       'ZongMu Technology', 'Aurora', 'Chehaoduo',\n",
       "       'Digital Currency Group', 'Figma', 'Gusto', 'Lalamove',\n",
       "       'Notion Labs', 'Reddit', 'Ripple', 'Talkdesk', 'Oyo', 'Klaviyo',\n",
       "       'OutSystems', 'ServiceTitan', 'Tanium', 'Kavak', 'Rapyd', 'Nuro',\n",
       "       'Snyk', 'Lacework', 'Tempus', 'Dream11', 'J&T Express', 'Hopin',\n",
       "       'Dapper Labs', 'Getir', 'Netskope', 'Razorpay', 'Carta',\n",
       "       'Viva Republica\\xa0(Toss)', 'Ola Cabs', 'Scale AI', 'Argo AI',\n",
       "       'Gong', 'TripActions', 'Discord', 'Automation Anywhere',\n",
       "       'WeDoctor', 'Ziroom', 'Mollie', 'Rippling', 'DataRobot',\n",
       "       'Personio', 'Lianjia\\xa0(Homelink)', 'Better.com', 'Wiz',\n",
       "       'Xingsheng Youxuan', 'Airtable', 'Vice Media', 'Fivetran',\n",
       "       'PharmEasy', 'Postman', 'Airwallex', 'PhonePe', 'Swiggy',\n",
       "       'Samsara', 'Pony.ai', 'Trade Republic', 'Rappi', 'Blockchain.com',\n",
       "       'OneTrust', 'SambaNova', 'Collibra', 'Thrasio', 'CloudKitchens',\n",
       "       'Hello TransTech', 'JUUL Labs', 'Ro', 'Royole', 'UBtech Robotics',\n",
       "       'United Imaging Healthcare', 'Zepz', 'Meesho', 'Bolt',\n",
       "       'Anduril Industries', 'Checkr', 'Dataiku', 'Magic Leap', 'Socure',\n",
       "       'Vinted', 'Zenefits', 'Meizu', 'Outreach', 'Arctic Wolf Networks',\n",
       "       'Sorare', 'Chainalysis', 'Relativity Space', 'SSENSE', 'Bitpanda',\n",
       "       'Dataminr', 'Yello Mobile', 'BrowserStack', 'Clubhouse', 'CRED',\n",
       "       'Houzz', 'iCapital Network', 'Megvii',\n",
       "       'Meliodisambiguation needed', 'Next Insurance', 'Olive', 'Patreon',\n",
       "       'PointClickCare', 'QuintoAndar\\xa0pt', 'Niantic', 'StockX',\n",
       "       'Articulate', 'Cohesity', 'Noom', 'Papaya Global', 'VAST Data',\n",
       "       'WHOOP', 'Shouqi', 'Alchemy', 'Coalition', 'Commure',\n",
       "       'Digit Insurance', 'Hopper', 'Mirakl', 'N26', 'OwnBackup',\n",
       "       'Preferred Networks', 'Rubrik', 'Scopely', 'WeRide',\n",
       "       'Youxia Motors', 'MoonPay', 'Unacademy', 'ApplyBoard',\n",
       "       'Back Market', 'Blockstream', 'ConsenSys', 'Cybereason',\n",
       "       'Eruditus', 'PsiQuantum', 'SpotOn', 'TiendaNube', 'SentinelOne',\n",
       "       'Udaan', 'Wildlife', 'ActiveCampaign', 'Age of Learning, Inc.',\n",
       "       'Automattic', 'Calendly', 'Contentful', 'Delhivery', 'Forter',\n",
       "       'Grafana Labs', 'Groww', 'Hinge Health', 'Horizon Robotics',\n",
       "       'Lucid Software', 'MessageBird', 'OfBusiness', 'Ola Electric',\n",
       "       'Paytm Mall', 'Pine Labs', 'Seismic', 'Sky Mavis', 'Souche',\n",
       "       'TradingView', 'Upstox', 'VANCL', 'VIPKID', 'Warby Parker',\n",
       "       'Wefox', 'Yixia Technology', 'OVO', 'Workrise', 'DriveWealth',\n",
       "       'BharatPe', 'Contentsquare', 'Graphcore', 'Icertis', 'OakNorth',\n",
       "       'UnionPay', 'Urban Company', 'Bird', 'Convoy', 'Illumio',\n",
       "       'MasterClass', 'Traveloka', 'Zipline', 'Daangn Market', 'Nextiva',\n",
       "       'Tradeshift', 'Odoo', 'AmWINS Group', 'ManoMano', 'Pendo',\n",
       "       'Sourcegraph', 'Jumpcloud', 'eToro', 'Infra.Market', 'Lenskart',\n",
       "       'Monzo', 'Ualá', 'HoneyBook', 'BitSight', 'Exabeam', 'Paxos',\n",
       "       'Mozido', 'Wemakeprice', 'Highspot', 'MPL', 'Uptake', 'Algolia',\n",
       "       'KeepTruckin', 'Via Transportation', 'Zume', 'Acorns',\n",
       "       'Animoca Brands', 'Bitso', 'Gympass', 'Kurly', 'Addepar',\n",
       "       'Eightfold.ai'], dtype=object)"
      ]
     },
     "execution_count": 19,
     "metadata": {},
     "output_type": "execute_result"
    }
   ],
   "source": [
    "startups_df['Company'].unique()"
   ]
  },
  {
   "cell_type": "code",
   "execution_count": 20,
   "metadata": {},
   "outputs": [
    {
     "data": {
      "text/plain": [
       "50"
      ]
     },
     "execution_count": 20,
     "metadata": {},
     "output_type": "execute_result"
    }
   ],
   "source": [
    "startups_df['Valuation_date'].nunique()"
   ]
  },
  {
   "cell_type": "code",
   "execution_count": 21,
   "metadata": {},
   "outputs": [
    {
     "data": {
      "text/plain": [
       "array(['April-21', 'October-21', 'March-21', 'June-21', 'September-21',\n",
       "       'August-21', 'July-21', 'January-21', 'November-21', 'May-21',\n",
       "       'October-20', 'September-16', 'February-21', 'June-18',\n",
       "       'December-20', 'December-19', 'June-20', 'December-21', 'July-20',\n",
       "       'November-19', 'March-20', 'April-17', 'February-20', 'May-20',\n",
       "       'November-20', 'January-19', 'October-19', 'August-18', 'May-18',\n",
       "       'September-17', 'February-16', 'May-15', 'October-16',\n",
       "       'November-16', 'June-17', 'May-19', 'December-16', 'July-19',\n",
       "       'September-19', 'October-18', 'August-20', 'February-18',\n",
       "       'September-18', 'February-14', 'February-19', 'June-19',\n",
       "       'October-14', 'September-15', 'November-17', 'November-18'],\n",
       "      dtype=object)"
      ]
     },
     "execution_count": 21,
     "metadata": {},
     "output_type": "execute_result"
    }
   ],
   "source": [
    "startups_df['Valuation_date'].unique()"
   ]
  },
  {
   "cell_type": "code",
   "execution_count": 22,
   "metadata": {},
   "outputs": [
    {
     "data": {
      "text/plain": [
       "81"
      ]
     },
     "execution_count": 22,
     "metadata": {},
     "output_type": "execute_result"
    }
   ],
   "source": [
    "startups_df['Industry'].nunique()"
   ]
  },
  {
   "cell_type": "code",
   "execution_count": 23,
   "metadata": {},
   "outputs": [
    {
     "data": {
      "text/plain": [
       "array(['Internet', 'Aerospace', 'Financial services', 'Fintech',\n",
       "       'Graphic design', 'Retail', 'Software', 'Video games',\n",
       "       'Cryptocurrency', 'Education technology', 'E-commerce',\n",
       "       'Technology', 'Financial Technology', 'Finance', 'Health', nan,\n",
       "       'Artificial intelligence', 'Batteries', 'Self-driving cars',\n",
       "       'Marketplace', 'Venture capital', 'Internet media',\n",
       "       'Computer software', 'Software as a service', 'Hospitality',\n",
       "       'Marketing', 'Software development', 'Robotics',\n",
       "       'Application security', 'Cloud security', 'Fantasy sports',\n",
       "       'Logistics', 'Virtual events', 'NFT', 'Computer security',\n",
       "       'Transportation', 'Travel', 'Robotic process automation',\n",
       "       'Healthcare', 'Real estate technology', 'Workforce management',\n",
       "       'Real estate', 'Cybersecurity', 'Collaborative software',\n",
       "       'Mass media', 'Data infrastructure', 'Health technology',\n",
       "       'Food delivery', 'Data governance', 'Ghost kitchen',\n",
       "       'Electronic Cigarettes', 'Flexible electronics',\n",
       "       'Defense Technology', 'Augmented Reality', 'Identity management',\n",
       "       'Human resource management', 'Consumer electronics', 'Sales',\n",
       "       'Blockchain', 'Data analytics', 'Software industry', 'Messaging',\n",
       "       'Interior design', 'Insurance', 'Real Estate',\n",
       "       'Wearable technology', 'Data storage', 'Computer storage',\n",
       "       'Mobile gaming', 'Electric vehicles', 'Education Technology',\n",
       "       'Educational technology', 'Quantum computing', 'B2B e-commerce',\n",
       "       'Education', 'Content management system', 'Semiconductors',\n",
       "       'Cloud communications', 'Home improvement', 'Trucking', 'CRM',\n",
       "       'Personal finance'], dtype=object)"
      ]
     },
     "execution_count": 23,
     "metadata": {},
     "output_type": "execute_result"
    }
   ],
   "source": [
    "startups_df['Industry'].unique()"
   ]
  },
  {
   "cell_type": "code",
   "execution_count": 24,
   "metadata": {},
   "outputs": [
    {
     "data": {
      "text/plain": [
       "53"
      ]
     },
     "execution_count": 24,
     "metadata": {},
     "output_type": "execute_result"
    }
   ],
   "source": [
    "startups_df['Country'].nunique()"
   ]
  },
  {
   "cell_type": "code",
   "execution_count": 25,
   "metadata": {},
   "outputs": [
    {
     "data": {
      "text/plain": [
       "array(['\\xa0China', '\\xa0United States',\n",
       "       '\\xa0United States\\xa0/\\xa0\\xa0Ireland', '\\xa0Sweden',\n",
       "       '\\xa0Australia', '\\xa0United Kingdom', '\\xa0Brazil',\n",
       "       '\\xa0United Kingdom\\xa0/\\xa0\\xa0UAE', '\\xa0Bahamas', '\\xa0India',\n",
       "       '\\xa0South Korea', '\\xa0Turkey', '\\xa0China\\xa0/\\xa0\\xa0Hong Kong',\n",
       "       '\\xa0Germany', '\\xa0Hong Kong\\xa0/\\xa0\\xa0China',\n",
       "       '\\xa0Portugal\\xa0/\\xa0\\xa0United States', '\\xa0Mexico',\n",
       "       '\\xa0Indonesia', '\\xa0Canada', '\\xa0Netherlands', '\\xa0Israel',\n",
       "       '\\xa0India\\xa0/\\xa0\\xa0United States',\n",
       "       '\\xa0Australia\\xa0/\\xa0\\xa0Hong Kong',\n",
       "       '\\xa0China\\xa0/\\xa0\\xa0United States', '\\xa0Colombia',\n",
       "       '\\xa0United Kingdom\\xa0/\\xa0\\xa0United States', '\\xa0Belgium',\n",
       "       '\\xa0Estonia', '\\xa0France\\xa0/\\xa0\\xa0United States',\n",
       "       '\\xa0Lithuania', '\\xa0France', '\\xa0Austria',\n",
       "       '\\xa0Israel\\xa0/\\xa0\\xa0United States', '\\xa0Japan',\n",
       "       '\\xa0Argentina', '\\xa0\\xa0United States', '\\xa0\\xa0Vietnam',\n",
       "       '\\xa0\\xa0China', '\\xa0\\xa0United Kingdom', '\\xa0\\xa0India',\n",
       "       '\\xa0\\xa0Germany', '\\xa0\\xa0Indonesia', '\\xa0\\xa0France',\n",
       "       '\\xa0\\xa0India\\xa0/\\xa0\\xa0\\xa0United States',\n",
       "       '\\xa0\\xa0South Korea', '\\xa0\\xa0Belgium', '\\xa0\\xa0Israel',\n",
       "       '\\xa0\\xa0Argentina',\n",
       "       '\\xa0\\xa0Israel\\xa0/\\xa0\\xa0\\xa0United States',\n",
       "       '\\xa0\\xa0France\\xa0/\\xa0\\xa0\\xa0United States',\n",
       "       '\\xa0\\xa0Australia', '\\xa0\\xa0Mexico',\n",
       "       '\\xa0\\xa0Brazil\\xa0/\\xa0\\xa0\\xa0United States'], dtype=object)"
      ]
     },
     "execution_count": 25,
     "metadata": {},
     "output_type": "execute_result"
    }
   ],
   "source": [
    "startups_df['Country'].unique()"
   ]
  },
  {
   "attachments": {},
   "cell_type": "markdown",
   "metadata": {},
   "source": [
    "# Feature Engineering"
   ]
  },
  {
   "attachments": {},
   "cell_type": "markdown",
   "metadata": {},
   "source": [
    "## Solve The Problem In Company Values"
   ]
  },
  {
   "cell_type": "code",
   "execution_count": 28,
   "metadata": {},
   "outputs": [],
   "source": [
    "startups_df['Company'] = [x.strip() for x in startups_df['Company']]"
   ]
  },
  {
   "cell_type": "code",
   "execution_count": 30,
   "metadata": {},
   "outputs": [
    {
     "data": {
      "text/plain": [
       "array(['ByteDance', 'SpaceX', 'Stripe', 'Klarna', 'Canva', 'Instacart',\n",
       "       'Databricks', 'Revolut', 'Nubank', 'Telegram', 'Epic Games',\n",
       "       'Chime', 'FTX', \"Byju's\", 'Xiaohongshu', 'Fanatics', 'Dunamu',\n",
       "       'Trendyol', 'Yuanfudao', 'Checkout.com', 'DJI', 'GoPuff', 'Shein',\n",
       "       'Plaid', 'Grammarly', 'Faire', 'Brex', 'Biosplice Therapeutics',\n",
       "       'Bitmain', 'GoodLeap', 'SenseTime', 'Northvolt', 'Celonis',\n",
       "       'ZongMu Technology', 'Aurora', 'Chehaoduo',\n",
       "       'Digital Currency Group', 'Figma', 'Gusto', 'Lalamove',\n",
       "       'Notion Labs', 'Reddit', 'Ripple', 'Talkdesk', 'Oyo', 'Klaviyo',\n",
       "       'OutSystems', 'ServiceTitan', 'Tanium', 'Kavak', 'Rapyd', 'Nuro',\n",
       "       'Snyk', 'Lacework', 'Tempus', 'Dream11', 'J&T Express', 'Hopin',\n",
       "       'Dapper Labs', 'Getir', 'Netskope', 'Razorpay', 'Carta',\n",
       "       'Viva Republica\\xa0(Toss)', 'Ola Cabs', 'Scale AI', 'Argo AI',\n",
       "       'Gong', 'TripActions', 'Discord', 'Automation Anywhere',\n",
       "       'WeDoctor', 'Ziroom', 'Mollie', 'Rippling', 'DataRobot',\n",
       "       'Personio', 'Lianjia\\xa0(Homelink)', 'Better.com', 'Wiz',\n",
       "       'Xingsheng Youxuan', 'Airtable', 'Vice Media', 'Fivetran',\n",
       "       'PharmEasy', 'Postman', 'Airwallex', 'PhonePe', 'Swiggy',\n",
       "       'Samsara', 'Pony.ai', 'Trade Republic', 'Rappi', 'Blockchain.com',\n",
       "       'OneTrust', 'SambaNova', 'Collibra', 'Thrasio', 'CloudKitchens',\n",
       "       'Hello TransTech', 'JUUL Labs', 'Ro', 'Royole', 'UBtech Robotics',\n",
       "       'United Imaging Healthcare', 'Zepz', 'Meesho', 'Bolt',\n",
       "       'Anduril Industries', 'Checkr', 'Dataiku', 'Magic Leap', 'Socure',\n",
       "       'Vinted', 'Zenefits', 'Meizu', 'Outreach', 'Arctic Wolf Networks',\n",
       "       'Sorare', 'Chainalysis', 'Relativity Space', 'SSENSE', 'Bitpanda',\n",
       "       'Dataminr', 'Yello Mobile', 'BrowserStack', 'Clubhouse', 'CRED',\n",
       "       'Houzz', 'iCapital Network', 'Megvii',\n",
       "       'Meliodisambiguation needed', 'Next Insurance', 'Olive', 'Patreon',\n",
       "       'PointClickCare', 'QuintoAndar\\xa0pt', 'Niantic', 'StockX',\n",
       "       'Articulate', 'Cohesity', 'Noom', 'Papaya Global', 'VAST Data',\n",
       "       'WHOOP', 'Shouqi', 'Alchemy', 'Coalition', 'Commure',\n",
       "       'Digit Insurance', 'Hopper', 'Mirakl', 'N26', 'OwnBackup',\n",
       "       'Preferred Networks', 'Rubrik', 'Scopely', 'WeRide',\n",
       "       'Youxia Motors', 'MoonPay', 'Unacademy', 'ApplyBoard',\n",
       "       'Back Market', 'Blockstream', 'ConsenSys', 'Cybereason',\n",
       "       'Eruditus', 'PsiQuantum', 'SpotOn', 'TiendaNube', 'SentinelOne',\n",
       "       'Udaan', 'Wildlife', 'ActiveCampaign', 'Age of Learning, Inc.',\n",
       "       'Automattic', 'Calendly', 'Contentful', 'Delhivery', 'Forter',\n",
       "       'Grafana Labs', 'Groww', 'Hinge Health', 'Horizon Robotics',\n",
       "       'Lucid Software', 'MessageBird', 'OfBusiness', 'Ola Electric',\n",
       "       'Paytm Mall', 'Pine Labs', 'Seismic', 'Sky Mavis', 'Souche',\n",
       "       'TradingView', 'Upstox', 'VANCL', 'VIPKID', 'Warby Parker',\n",
       "       'Wefox', 'Yixia Technology', 'OVO', 'Workrise', 'DriveWealth',\n",
       "       'BharatPe', 'Contentsquare', 'Graphcore', 'Icertis', 'OakNorth',\n",
       "       'UnionPay', 'Urban Company', 'Bird', 'Convoy', 'Illumio',\n",
       "       'MasterClass', 'Traveloka', 'Zipline', 'Daangn Market', 'Nextiva',\n",
       "       'Tradeshift', 'Odoo', 'AmWINS Group', 'ManoMano', 'Pendo',\n",
       "       'Sourcegraph', 'Jumpcloud', 'eToro', 'Infra.Market', 'Lenskart',\n",
       "       'Monzo', 'Ualá', 'HoneyBook', 'BitSight', 'Exabeam', 'Paxos',\n",
       "       'Mozido', 'Wemakeprice', 'Highspot', 'MPL', 'Uptake', 'Algolia',\n",
       "       'KeepTruckin', 'Via Transportation', 'Zume', 'Acorns',\n",
       "       'Animoca Brands', 'Bitso', 'Gympass', 'Kurly', 'Addepar',\n",
       "       'Eightfold.ai'], dtype=object)"
      ]
     },
     "execution_count": 30,
     "metadata": {},
     "output_type": "execute_result"
    }
   ],
   "source": [
    "startups_df['Company'].unique()"
   ]
  },
  {
   "cell_type": "code",
   "execution_count": 31,
   "metadata": {},
   "outputs": [
    {
     "data": {
      "text/plain": [
       "250"
      ]
     },
     "execution_count": 31,
     "metadata": {},
     "output_type": "execute_result"
    }
   ],
   "source": [
    "startups_df['Company'].nunique()"
   ]
  },
  {
   "attachments": {},
   "cell_type": "markdown",
   "metadata": {},
   "source": [
    "## Extract Month and Day From Valuation_date"
   ]
  },
  {
   "cell_type": "code",
   "execution_count": 41,
   "metadata": {},
   "outputs": [],
   "source": [
    "valuation_month = startups_df['Valuation_date'].str.split('-', expand=True)[0]\n",
    "valuation_day = startups_df['Valuation_date'].str.split('-', expand=True)[1]"
   ]
  },
  {
   "cell_type": "code",
   "execution_count": 42,
   "metadata": {},
   "outputs": [],
   "source": [
    "startups_df['Valuation_month'] = valuation_month\n",
    "startups_df['Valuation_day'] = valuation_day"
   ]
  },
  {
   "attachments": {},
   "cell_type": "markdown",
   "metadata": {},
   "source": [
    "## Drop Null Values From Industry "
   ]
  },
  {
   "cell_type": "code",
   "execution_count": 60,
   "metadata": {},
   "outputs": [],
   "source": [
    "startups_df.dropna(inplace=True)"
   ]
  },
  {
   "attachments": {},
   "cell_type": "markdown",
   "metadata": {},
   "source": [
    "## Solve The Problem In Industry Values"
   ]
  },
  {
   "cell_type": "code",
   "execution_count": 61,
   "metadata": {},
   "outputs": [],
   "source": [
    "startups_df['Industry'] = [x.strip() for x in startups_df['Industry']]"
   ]
  },
  {
   "cell_type": "code",
   "execution_count": 62,
   "metadata": {},
   "outputs": [
    {
     "data": {
      "text/plain": [
       "array(['Internet', 'Aerospace', 'Financial services', 'Fintech',\n",
       "       'Graphic design', 'Retail', 'Software', 'Video games',\n",
       "       'Cryptocurrency', 'Education technology', 'E-commerce',\n",
       "       'Technology', 'Financial Technology', 'Finance', 'Health',\n",
       "       'Artificial intelligence', 'Batteries', 'Self-driving cars',\n",
       "       'Marketplace', 'Venture capital', 'Internet media',\n",
       "       'Computer software', 'Software as a service', 'Hospitality',\n",
       "       'Marketing', 'Software development', 'Robotics',\n",
       "       'Application security', 'Cloud security', 'Fantasy sports',\n",
       "       'Logistics', 'Virtual events', 'NFT', 'Computer security',\n",
       "       'Transportation', 'Travel', 'Robotic process automation',\n",
       "       'Healthcare', 'Real estate technology', 'Workforce management',\n",
       "       'Real estate', 'Cybersecurity', 'Collaborative software',\n",
       "       'Mass media', 'Data infrastructure', 'Health technology',\n",
       "       'Food delivery', 'Data governance', 'Ghost kitchen',\n",
       "       'Electronic Cigarettes', 'Flexible electronics',\n",
       "       'Defense Technology', 'Augmented Reality', 'Identity management',\n",
       "       'Human resource management', 'Consumer electronics', 'Sales',\n",
       "       'Blockchain', 'Data analytics', 'Software industry', 'Messaging',\n",
       "       'Interior design', 'Insurance', 'Real Estate',\n",
       "       'Wearable technology', 'Data storage', 'Computer storage',\n",
       "       'Mobile gaming', 'Electric vehicles', 'Education Technology',\n",
       "       'Educational technology', 'Quantum computing', 'B2B e-commerce',\n",
       "       'Education', 'Content management system', 'Semiconductors',\n",
       "       'Cloud communications', 'Home improvement', 'Trucking', 'CRM',\n",
       "       'Personal finance'], dtype=object)"
      ]
     },
     "execution_count": 62,
     "metadata": {},
     "output_type": "execute_result"
    }
   ],
   "source": [
    "startups_df['Industry'].unique()"
   ]
  },
  {
   "cell_type": "code",
   "execution_count": 63,
   "metadata": {},
   "outputs": [
    {
     "data": {
      "text/plain": [
       "81"
      ]
     },
     "execution_count": 63,
     "metadata": {},
     "output_type": "execute_result"
    }
   ],
   "source": [
    "startups_df['Industry'].nunique()"
   ]
  },
  {
   "attachments": {},
   "cell_type": "markdown",
   "metadata": {},
   "source": [
    "## Solve The Problem In Country Values"
   ]
  },
  {
   "cell_type": "code",
   "execution_count": 64,
   "metadata": {},
   "outputs": [],
   "source": [
    "startups_df['Country'] = [x.strip() for x in startups_df['Country']]"
   ]
  },
  {
   "cell_type": "code",
   "execution_count": 65,
   "metadata": {},
   "outputs": [
    {
     "data": {
      "text/plain": [
       "array(['China', 'United States', 'United States\\xa0/\\xa0\\xa0Ireland',\n",
       "       'Sweden', 'Australia', 'United Kingdom', 'Brazil',\n",
       "       'United Kingdom\\xa0/\\xa0\\xa0UAE', 'Bahamas', 'India',\n",
       "       'South Korea', 'Turkey', 'China\\xa0/\\xa0\\xa0Hong Kong', 'Germany',\n",
       "       'Hong Kong\\xa0/\\xa0\\xa0China',\n",
       "       'Portugal\\xa0/\\xa0\\xa0United States', 'Mexico', 'Indonesia',\n",
       "       'Canada', 'Netherlands', 'Israel',\n",
       "       'India\\xa0/\\xa0\\xa0United States',\n",
       "       'Australia\\xa0/\\xa0\\xa0Hong Kong',\n",
       "       'China\\xa0/\\xa0\\xa0United States', 'Colombia',\n",
       "       'United Kingdom\\xa0/\\xa0\\xa0United States', 'Belgium', 'Estonia',\n",
       "       'France\\xa0/\\xa0\\xa0United States', 'Lithuania', 'France',\n",
       "       'Austria', 'Israel\\xa0/\\xa0\\xa0United States', 'Japan',\n",
       "       'Argentina', 'Vietnam', 'India\\xa0/\\xa0\\xa0\\xa0United States',\n",
       "       'Israel\\xa0/\\xa0\\xa0\\xa0United States',\n",
       "       'France\\xa0/\\xa0\\xa0\\xa0United States'], dtype=object)"
      ]
     },
     "execution_count": 65,
     "metadata": {},
     "output_type": "execute_result"
    }
   ],
   "source": [
    "startups_df['Country'].unique()"
   ]
  },
  {
   "cell_type": "code",
   "execution_count": 71,
   "metadata": {},
   "outputs": [
    {
     "data": {
      "text/plain": [
       "39"
      ]
     },
     "execution_count": 71,
     "metadata": {},
     "output_type": "execute_result"
    }
   ],
   "source": [
    "startups_df['Country'].nunique()"
   ]
  },
  {
   "attachments": {},
   "cell_type": "markdown",
   "metadata": {},
   "source": [
    "## Drop Unnecessary Columns"
   ]
  },
  {
   "cell_type": "code",
   "execution_count": 72,
   "metadata": {},
   "outputs": [
    {
     "data": {
      "text/html": [
       "<div>\n",
       "<style scoped>\n",
       "    .dataframe tbody tr th:only-of-type {\n",
       "        vertical-align: middle;\n",
       "    }\n",
       "\n",
       "    .dataframe tbody tr th {\n",
       "        vertical-align: top;\n",
       "    }\n",
       "\n",
       "    .dataframe thead th {\n",
       "        text-align: right;\n",
       "    }\n",
       "</style>\n",
       "<table border=\"1\" class=\"dataframe\">\n",
       "  <thead>\n",
       "    <tr style=\"text-align: right;\">\n",
       "      <th></th>\n",
       "      <th>Company</th>\n",
       "      <th>Valuation</th>\n",
       "      <th>Valuation_date</th>\n",
       "      <th>Industry</th>\n",
       "      <th>Country</th>\n",
       "      <th>Valuation_month</th>\n",
       "      <th>Valuation_day</th>\n",
       "    </tr>\n",
       "  </thead>\n",
       "  <tbody>\n",
       "    <tr>\n",
       "      <th>0</th>\n",
       "      <td>ByteDance</td>\n",
       "      <td>140.00</td>\n",
       "      <td>April-21</td>\n",
       "      <td>Internet</td>\n",
       "      <td>China</td>\n",
       "      <td>April</td>\n",
       "      <td>21</td>\n",
       "    </tr>\n",
       "    <tr>\n",
       "      <th>1</th>\n",
       "      <td>SpaceX</td>\n",
       "      <td>100.00</td>\n",
       "      <td>October-21</td>\n",
       "      <td>Aerospace</td>\n",
       "      <td>United States</td>\n",
       "      <td>October</td>\n",
       "      <td>21</td>\n",
       "    </tr>\n",
       "    <tr>\n",
       "      <th>2</th>\n",
       "      <td>Stripe</td>\n",
       "      <td>95.00</td>\n",
       "      <td>March-21</td>\n",
       "      <td>Financial services</td>\n",
       "      <td>United States /  Ireland</td>\n",
       "      <td>March</td>\n",
       "      <td>21</td>\n",
       "    </tr>\n",
       "    <tr>\n",
       "      <th>3</th>\n",
       "      <td>Klarna</td>\n",
       "      <td>45.60</td>\n",
       "      <td>June-21</td>\n",
       "      <td>Fintech</td>\n",
       "      <td>Sweden</td>\n",
       "      <td>June</td>\n",
       "      <td>21</td>\n",
       "    </tr>\n",
       "    <tr>\n",
       "      <th>4</th>\n",
       "      <td>Canva</td>\n",
       "      <td>40.00</td>\n",
       "      <td>September-21</td>\n",
       "      <td>Graphic design</td>\n",
       "      <td>Australia</td>\n",
       "      <td>September</td>\n",
       "      <td>21</td>\n",
       "    </tr>\n",
       "    <tr>\n",
       "      <th>...</th>\n",
       "      <td>...</td>\n",
       "      <td>...</td>\n",
       "      <td>...</td>\n",
       "      <td>...</td>\n",
       "      <td>...</td>\n",
       "      <td>...</td>\n",
       "      <td>...</td>\n",
       "    </tr>\n",
       "    <tr>\n",
       "      <th>244</th>\n",
       "      <td>Animoca Brands</td>\n",
       "      <td>2.20</td>\n",
       "      <td>October-21</td>\n",
       "      <td>Cryptocurrency</td>\n",
       "      <td>Australia</td>\n",
       "      <td>October</td>\n",
       "      <td>21</td>\n",
       "    </tr>\n",
       "    <tr>\n",
       "      <th>245</th>\n",
       "      <td>Bitso</td>\n",
       "      <td>2.20</td>\n",
       "      <td>May-21</td>\n",
       "      <td>Cryptocurrency</td>\n",
       "      <td>Mexico</td>\n",
       "      <td>May</td>\n",
       "      <td>21</td>\n",
       "    </tr>\n",
       "    <tr>\n",
       "      <th>247</th>\n",
       "      <td>Kurly</td>\n",
       "      <td>2.20</td>\n",
       "      <td>July-21</td>\n",
       "      <td>E-commerce</td>\n",
       "      <td>South Korea</td>\n",
       "      <td>July</td>\n",
       "      <td>21</td>\n",
       "    </tr>\n",
       "    <tr>\n",
       "      <th>248</th>\n",
       "      <td>Addepar</td>\n",
       "      <td>2.17</td>\n",
       "      <td>June-21</td>\n",
       "      <td>Fintech</td>\n",
       "      <td>United States</td>\n",
       "      <td>June</td>\n",
       "      <td>21</td>\n",
       "    </tr>\n",
       "    <tr>\n",
       "      <th>249</th>\n",
       "      <td>Eightfold.ai</td>\n",
       "      <td>2.10</td>\n",
       "      <td>June-21</td>\n",
       "      <td>Artificial intelligence</td>\n",
       "      <td>United States</td>\n",
       "      <td>June</td>\n",
       "      <td>21</td>\n",
       "    </tr>\n",
       "  </tbody>\n",
       "</table>\n",
       "<p>233 rows × 7 columns</p>\n",
       "</div>"
      ],
      "text/plain": [
       "            Company  Valuation Valuation_date                 Industry  \\\n",
       "0         ByteDance     140.00       April-21                 Internet   \n",
       "1            SpaceX     100.00     October-21                Aerospace   \n",
       "2            Stripe      95.00       March-21       Financial services   \n",
       "3            Klarna      45.60        June-21                  Fintech   \n",
       "4             Canva      40.00   September-21           Graphic design   \n",
       "..              ...        ...            ...                      ...   \n",
       "244  Animoca Brands       2.20     October-21           Cryptocurrency   \n",
       "245           Bitso       2.20         May-21           Cryptocurrency   \n",
       "247           Kurly       2.20        July-21               E-commerce   \n",
       "248         Addepar       2.17        June-21                  Fintech   \n",
       "249    Eightfold.ai       2.10        June-21  Artificial intelligence   \n",
       "\n",
       "                      Country Valuation_month Valuation_day  \n",
       "0                       China           April            21  \n",
       "1               United States         October            21  \n",
       "2    United States /  Ireland           March            21  \n",
       "3                      Sweden            June            21  \n",
       "4                   Australia       September            21  \n",
       "..                        ...             ...           ...  \n",
       "244                 Australia         October            21  \n",
       "245                    Mexico             May            21  \n",
       "247               South Korea            July            21  \n",
       "248             United States            June            21  \n",
       "249             United States            June            21  \n",
       "\n",
       "[233 rows x 7 columns]"
      ]
     },
     "execution_count": 72,
     "metadata": {},
     "output_type": "execute_result"
    }
   ],
   "source": [
    "startups_df"
   ]
  },
  {
   "cell_type": "code",
   "execution_count": 73,
   "metadata": {},
   "outputs": [
    {
     "data": {
      "text/html": [
       "<div>\n",
       "<style scoped>\n",
       "    .dataframe tbody tr th:only-of-type {\n",
       "        vertical-align: middle;\n",
       "    }\n",
       "\n",
       "    .dataframe tbody tr th {\n",
       "        vertical-align: top;\n",
       "    }\n",
       "\n",
       "    .dataframe thead th {\n",
       "        text-align: right;\n",
       "    }\n",
       "</style>\n",
       "<table border=\"1\" class=\"dataframe\">\n",
       "  <thead>\n",
       "    <tr style=\"text-align: right;\">\n",
       "      <th></th>\n",
       "      <th>Company</th>\n",
       "      <th>Valuation</th>\n",
       "      <th>Industry</th>\n",
       "      <th>Country</th>\n",
       "      <th>Valuation_month</th>\n",
       "      <th>Valuation_day</th>\n",
       "    </tr>\n",
       "  </thead>\n",
       "  <tbody>\n",
       "    <tr>\n",
       "      <th>0</th>\n",
       "      <td>ByteDance</td>\n",
       "      <td>140.00</td>\n",
       "      <td>Internet</td>\n",
       "      <td>China</td>\n",
       "      <td>April</td>\n",
       "      <td>21</td>\n",
       "    </tr>\n",
       "    <tr>\n",
       "      <th>1</th>\n",
       "      <td>SpaceX</td>\n",
       "      <td>100.00</td>\n",
       "      <td>Aerospace</td>\n",
       "      <td>United States</td>\n",
       "      <td>October</td>\n",
       "      <td>21</td>\n",
       "    </tr>\n",
       "    <tr>\n",
       "      <th>2</th>\n",
       "      <td>Stripe</td>\n",
       "      <td>95.00</td>\n",
       "      <td>Financial services</td>\n",
       "      <td>United States /  Ireland</td>\n",
       "      <td>March</td>\n",
       "      <td>21</td>\n",
       "    </tr>\n",
       "    <tr>\n",
       "      <th>3</th>\n",
       "      <td>Klarna</td>\n",
       "      <td>45.60</td>\n",
       "      <td>Fintech</td>\n",
       "      <td>Sweden</td>\n",
       "      <td>June</td>\n",
       "      <td>21</td>\n",
       "    </tr>\n",
       "    <tr>\n",
       "      <th>4</th>\n",
       "      <td>Canva</td>\n",
       "      <td>40.00</td>\n",
       "      <td>Graphic design</td>\n",
       "      <td>Australia</td>\n",
       "      <td>September</td>\n",
       "      <td>21</td>\n",
       "    </tr>\n",
       "    <tr>\n",
       "      <th>...</th>\n",
       "      <td>...</td>\n",
       "      <td>...</td>\n",
       "      <td>...</td>\n",
       "      <td>...</td>\n",
       "      <td>...</td>\n",
       "      <td>...</td>\n",
       "    </tr>\n",
       "    <tr>\n",
       "      <th>244</th>\n",
       "      <td>Animoca Brands</td>\n",
       "      <td>2.20</td>\n",
       "      <td>Cryptocurrency</td>\n",
       "      <td>Australia</td>\n",
       "      <td>October</td>\n",
       "      <td>21</td>\n",
       "    </tr>\n",
       "    <tr>\n",
       "      <th>245</th>\n",
       "      <td>Bitso</td>\n",
       "      <td>2.20</td>\n",
       "      <td>Cryptocurrency</td>\n",
       "      <td>Mexico</td>\n",
       "      <td>May</td>\n",
       "      <td>21</td>\n",
       "    </tr>\n",
       "    <tr>\n",
       "      <th>247</th>\n",
       "      <td>Kurly</td>\n",
       "      <td>2.20</td>\n",
       "      <td>E-commerce</td>\n",
       "      <td>South Korea</td>\n",
       "      <td>July</td>\n",
       "      <td>21</td>\n",
       "    </tr>\n",
       "    <tr>\n",
       "      <th>248</th>\n",
       "      <td>Addepar</td>\n",
       "      <td>2.17</td>\n",
       "      <td>Fintech</td>\n",
       "      <td>United States</td>\n",
       "      <td>June</td>\n",
       "      <td>21</td>\n",
       "    </tr>\n",
       "    <tr>\n",
       "      <th>249</th>\n",
       "      <td>Eightfold.ai</td>\n",
       "      <td>2.10</td>\n",
       "      <td>Artificial intelligence</td>\n",
       "      <td>United States</td>\n",
       "      <td>June</td>\n",
       "      <td>21</td>\n",
       "    </tr>\n",
       "  </tbody>\n",
       "</table>\n",
       "<p>233 rows × 6 columns</p>\n",
       "</div>"
      ],
      "text/plain": [
       "            Company  Valuation                 Industry  \\\n",
       "0         ByteDance     140.00                 Internet   \n",
       "1            SpaceX     100.00                Aerospace   \n",
       "2            Stripe      95.00       Financial services   \n",
       "3            Klarna      45.60                  Fintech   \n",
       "4             Canva      40.00           Graphic design   \n",
       "..              ...        ...                      ...   \n",
       "244  Animoca Brands       2.20           Cryptocurrency   \n",
       "245           Bitso       2.20           Cryptocurrency   \n",
       "247           Kurly       2.20               E-commerce   \n",
       "248         Addepar       2.17                  Fintech   \n",
       "249    Eightfold.ai       2.10  Artificial intelligence   \n",
       "\n",
       "                      Country Valuation_month Valuation_day  \n",
       "0                       China           April            21  \n",
       "1               United States         October            21  \n",
       "2    United States /  Ireland           March            21  \n",
       "3                      Sweden            June            21  \n",
       "4                   Australia       September            21  \n",
       "..                        ...             ...           ...  \n",
       "244                 Australia         October            21  \n",
       "245                    Mexico             May            21  \n",
       "247               South Korea            July            21  \n",
       "248             United States            June            21  \n",
       "249             United States            June            21  \n",
       "\n",
       "[233 rows x 6 columns]"
      ]
     },
     "execution_count": 73,
     "metadata": {},
     "output_type": "execute_result"
    }
   ],
   "source": [
    "startups_df.drop(columns=['Valuation_date'])"
   ]
  },
  {
   "attachments": {},
   "cell_type": "markdown",
   "metadata": {},
   "source": [
    "## Get Deep Into Data"
   ]
  },
  {
   "cell_type": "code",
   "execution_count": 81,
   "metadata": {},
   "outputs": [
    {
     "data": {
      "text/plain": [
       "Country\n",
       "United States               764.02\n",
       "China                       305.74\n",
       "India                       127.50\n",
       "United States /  Ireland     95.00\n",
       "United Kingdom               94.25\n",
       "Sweden                       57.35\n",
       "Australia                    42.20\n",
       "Brazil                       37.00\n",
       "South Korea                  33.35\n",
       "United Kingdom /  UAE        30.00\n",
       "Name: Valuation, dtype: float64"
      ]
     },
     "execution_count": 81,
     "metadata": {},
     "output_type": "execute_result"
    }
   ],
   "source": [
    "startups_df.groupby('Country').sum()['Valuation'].nlargest(10)"
   ]
  },
  {
   "cell_type": "code",
   "execution_count": 91,
   "metadata": {},
   "outputs": [
    {
     "data": {
      "image/png": "[encoded data removed]",
      "text/plain": [
       "<Figure size 1500x500 with 1 Axes>"
      ]
     },
     "metadata": {},
     "output_type": "display_data"
    }
   ],
   "source": [
    "plt.figure(figsize=(15, 5))\n",
    "startups_df.groupby('Country').sum()['Valuation'].nlargest(15).plot.bar()\n",
    "plt.xlabel(\"Country\")\n",
    "plt.ylabel(\"Sum Of Valuation\")\n",
    "plt.title(\"Top 10 Most Valuated Countries\")\n",
    "plt.show()"
   ]
  },
  {
   "cell_type": "code",
   "execution_count": 93,
   "metadata": {},
   "outputs": [
    {
     "data": {
      "image/png": "[encoded data removed]",
      "text/plain": [
       "<Figure size 1500x500 with 1 Axes>"
      ]
     },
     "metadata": {},
     "output_type": "display_data"
    }
   ],
   "source": [
    "plt.figure(figsize=(15, 5))\n",
    "startups_df.groupby('Valuation_month').sum()['Valuation'].nlargest(15).plot.bar()\n",
    "plt.xlabel(\"Valuation_Month\")\n",
    "plt.ylabel(\"Sum Of Valuation\")\n",
    "plt.title(\"Top 10 Most Valuated Months\")\n",
    "plt.show()"
   ]
  },
  {
   "attachments": {},
   "cell_type": "markdown",
   "metadata": {},
   "source": [
    "# Save Cleaned Startups Dataset Into CSV File"
   ]
  },
  {
   "cell_type": "code",
   "execution_count": 94,
   "metadata": {},
   "outputs": [],
   "source": [
    "startups_df.to_csv('cleaned_startups.csv', index=False)"
   ]
  }
 ],
 "metadata": {
  "kernelspec": {
   "display_name": "base",
   "language": "python",
   "name": "python3"
  },
  "language_info": {
   "codemirror_mode": {
    "name": "ipython",
    "version": 3
   },
   "file_extension": ".py",
   "mimetype": "text/x-python",
   "name": "python",
   "nbconvert_exporter": "python",
   "pygments_lexer": "ipython3",
   "version": "3.9.13"
  },
  "orig_nbformat": 4,
  "vscode": {
   "interpreter": {
    "hash": "64bc2431556ddb93600416b1e010991e709a1748a37f9a800cbf227570b9e496"
   }
  }
 },
 "nbformat": 4,
 "nbformat_minor": 2
}
